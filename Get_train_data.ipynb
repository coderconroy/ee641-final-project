{
 "cells": [
  {
   "cell_type": "code",
   "execution_count": 1,
   "metadata": {},
   "outputs": [],
   "source": [
    "import yaml\n",
    "from pathlib import Path\n",
    "import cv2\n",
    "from matplotlib import pyplot as plt\n",
    "import json\n",
    "import math\n",
    "import sys\n"
   ]
  },
  {
   "cell_type": "code",
   "execution_count": 3,
   "metadata": {},
   "outputs": [
    {
     "ename": "TypeError",
     "evalue": "'NoneType' object is not subscriptable",
     "output_type": "error",
     "traceback": [
      "\u001b[1;31m---------------------------------------------------------------------------\u001b[0m",
      "\u001b[1;31mTypeError\u001b[0m                                 Traceback (most recent call last)",
      "\u001b[1;32mc:\\Users\\28435\\OneDrive\\桌面\\ee641-final-project\\Get_train_data.ipynb Cell 2\u001b[0m line \u001b[0;36m5\n\u001b[0;32m     <a href='vscode-notebook-cell:/c%3A/Users/28435/OneDrive/%E6%A1%8C%E9%9D%A2/ee641-final-project/Get_train_data.ipynb#W1sZmlsZQ%3D%3D?line=53'>54</a>\u001b[0m x_min,x_max,y_min,y_max\u001b[39m=\u001b[39m image_box(x_min,x_max,y_min,y_max,width_expanson,height_expension)\n\u001b[0;32m     <a href='vscode-notebook-cell:/c%3A/Users/28435/OneDrive/%E6%A1%8C%E9%9D%A2/ee641-final-project/Get_train_data.ipynb#W1sZmlsZQ%3D%3D?line=55'>56</a>\u001b[0m \u001b[39mif\u001b[39;00m x_max\u001b[39m-\u001b[39mx_min \u001b[39m>\u001b[39m\u001b[39m=\u001b[39m threhold \u001b[39mor\u001b[39;00m y_max\u001b[39m-\u001b[39my_min \u001b[39m>\u001b[39m\u001b[39m=\u001b[39m threhold:\n\u001b[1;32m---> <a href='vscode-notebook-cell:/c%3A/Users/28435/OneDrive/%E6%A1%8C%E9%9D%A2/ee641-final-project/Get_train_data.ipynb#W1sZmlsZQ%3D%3D?line=57'>58</a>\u001b[0m     img_cut \u001b[39m=\u001b[39m cv2\u001b[39m.\u001b[39mresize(img[y_min:y_max,x_min:x_max,:],(\u001b[39m64\u001b[39m,\u001b[39m64\u001b[39m),interpolation \u001b[39m=\u001b[39m cv2\u001b[39m.\u001b[39mINTER_LINEAR)\n\u001b[0;32m     <a href='vscode-notebook-cell:/c%3A/Users/28435/OneDrive/%E6%A1%8C%E9%9D%A2/ee641-final-project/Get_train_data.ipynb#W1sZmlsZQ%3D%3D?line=59'>60</a>\u001b[0m     filename \u001b[39m=\u001b[39m \u001b[39mf\u001b[39m\u001b[39m'\u001b[39m\u001b[39m./train_revised/\u001b[39m\u001b[39m{\u001b[39;00mimg_id\u001b[39m}\u001b[39;00m\u001b[39m.jpg\u001b[39m\u001b[39m'\u001b[39m\n\u001b[0;32m     <a href='vscode-notebook-cell:/c%3A/Users/28435/OneDrive/%E6%A1%8C%E9%9D%A2/ee641-final-project/Get_train_data.ipynb#W1sZmlsZQ%3D%3D?line=60'>61</a>\u001b[0m     cv2\u001b[39m.\u001b[39mimwrite(filename, img_cut) \n",
      "\u001b[1;31mTypeError\u001b[0m: 'NoneType' object is not subscriptable"
     ]
    }
   ],
   "source": [
    "conf = yaml.safe_load(Path('./train.yaml').read_text())\n",
    "conf2 = yaml.safe_load(Path('./test.yaml').read_text())\n",
    "threhold = 128\n",
    "img_id = 0\n",
    "width_expanson = 0.2\n",
    "height_expension = 0.6\n",
    "\n",
    "def image_box(x1,x2,y1,y2,x_expansion,y_expansion):\n",
    "    dis_x = x2-x1\n",
    "    dis_y = y2-y1\n",
    "    return max(0,int(x1-x_expansion*dis_x)),min(1279,int(x2+x_expansion*dis_x)),max(0,int(y1-y_expansion*dis_y)),min(1279,int(y2+y_expansion*dis_y))\n",
    "\n",
    "\n",
    "for i in conf:\n",
    "    if i['boxes'] != []:\n",
    "        img = cv2.imread(i['path'],1)\n",
    "        for data in i['boxes']:\n",
    "            x_max=min(data['x_max'],1279)\n",
    "            x_min=max(data['x_min'],0)\n",
    "            y_max=min(data['y_max'],719)\n",
    "            y_min=max(data['y_min'],0)\n",
    "            x_min,x_max,y_min,y_max= image_box(x_min,x_max,y_min,y_max,width_expanson,height_expension)\n",
    "           \n",
    "            if x_max-x_min >= threhold or y_max-y_min >= threhold:\n",
    "                \n",
    "                img_cut = cv2.resize(img[y_min:y_max,x_min:x_max,:],(64,64),interpolation = cv2.INTER_LINEAR)\n",
    "\n",
    "                filename = f'./train_data/{img_id}.jpg'\n",
    "                cv2.imwrite(filename, img_cut) \n",
    "                dic = {\n",
    "                    img_id:data['label']\n",
    "                }\n",
    "                img_id +=1\n",
    "                \"\"\"\n",
    "                try:\n",
    "                    with open(\"train_label.json\", \"r\") as old_file:\n",
    "                        content = json.load(old_file)\n",
    "                        content.update(dic)\n",
    "                    with open(\"train_label.json\", \"w\") as new_file:\n",
    "                        json.dump(content,new_file)\n",
    "                except:\n",
    "                    with open(\"train_label.json\", \"w\") as new_file:\n",
    "                        json.dump(dic,new_file)  \n",
    "               \n",
    "                \"\"\"\n",
    "for i in conf2:\n",
    "    img = cv2.imread(i['path'],1)\n",
    "    for data in i['boxes']:\n",
    "        x_max=min(data['x_max'],1279)\n",
    "        x_min=max(data['x_min'],0)\n",
    "        y_max=min(data['y_max'],719)\n",
    "        y_min=max(data['y_min'],0)\n",
    "        x_min,x_max,y_min,y_max= image_box(x_min,x_max,y_min,y_max,width_expanson,height_expension)\n",
    "        \n",
    "        if x_max-x_min >= threhold or y_max-y_min >= threhold:\n",
    "            \n",
    "            img_cut = cv2.resize(img[y_min:y_max,x_min:x_max,:],(64,64),interpolation = cv2.INTER_LINEAR)\n",
    "\n",
    "            filename = f'./train_data/{img_id}.jpg'\n",
    "            cv2.imwrite(filename, img_cut) \n",
    "            dic = {\n",
    "                img_id:data['label']\n",
    "            }\n",
    "            img_id +=1\n"
   ]
  },
  {
   "cell_type": "code",
   "execution_count": null,
   "metadata": {},
   "outputs": [],
   "source": []
  }
 ],
 "metadata": {
  "kernelspec": {
   "display_name": "Python 3",
   "language": "python",
   "name": "python3"
  },
  "language_info": {
   "codemirror_mode": {
    "name": "ipython",
    "version": 3
   },
   "file_extension": ".py",
   "mimetype": "text/x-python",
   "name": "python",
   "nbconvert_exporter": "python",
   "pygments_lexer": "ipython3",
   "version": "3.10.9"
  }
 },
 "nbformat": 4,
 "nbformat_minor": 2
}
