{
 "cells": [
  {
   "cell_type": "code",
   "execution_count": 1,
   "metadata": {},
   "outputs": [],
   "source": [
    "import yaml\n",
    "from pathlib import Path\n",
    "import cv2\n",
    "from matplotlib import pyplot as plt\n",
    "import json\n",
    "import math\n",
    "import sys\n"
   ]
  },
  {
   "cell_type": "code",
   "execution_count": 14,
   "metadata": {},
   "outputs": [],
   "source": [
    "conf = yaml.safe_load(Path('./train.yaml').read_text())\n",
    "threhold = 20  #drop small images\n",
    "img_id = 0\n",
    "for i in conf:\n",
    "    if i['boxes'] != []:\n",
    "        img = cv2.imread(i['path'],1)\n",
    "        for data in i['boxes']:\n",
    "            data['x_max']=min(data['x_max'],1279)\n",
    "            data['x_min']=max(data['x_min'],0)\n",
    "            data['y_max']=min(data['y_max'],719)\n",
    "            data['y_min']=max(data['y_min'],0)\n",
    "            if data['x_max']-data['x_min'] >= threhold or data['y_max']-data['y_min'] >= threhold:\n",
    "                try:\n",
    "                    img_cut = cv2.resize(img[int(data['y_min']):math.ceil(data['y_max']),int(data['x_min']):math.ceil(data['x_max']),:],(64,64),interpolation = cv2.INTER_LINEAR)\n",
    "                except:\n",
    "                    print(int(data['y_min']),math.ceil(data['y_max']),int(data['x_min']),math.ceil(data['x_max']))\n",
    "                    sys.exit()\n",
    "                filename = f'./train_data/{img_id}.jpg'\n",
    "                cv2.imwrite(filename, img_cut) \n",
    "                dic = {\n",
    "                    img_id:data['label']\n",
    "                }\n",
    "                try:\n",
    "                    with open(\"train_label.json\", \"r\") as old_file:\n",
    "                        content = json.load(old_file)\n",
    "                        content.update(dic)\n",
    "                    with open(\"train_label.json\", \"w\") as new_file:\n",
    "                        json.dump(content,new_file)\n",
    "                except:\n",
    "                    with open(\"train_label.json\", \"w\") as new_file:\n",
    "                        json.dump(dic,new_file)\n",
    "                img_id +=1\n",
    "\n"
   ]
  },
  {
   "cell_type": "code",
   "execution_count": null,
   "metadata": {},
   "outputs": [],
   "source": []
  }
 ],
 "metadata": {
  "kernelspec": {
   "display_name": "Python 3",
   "language": "python",
   "name": "python3"
  },
  "language_info": {
   "codemirror_mode": {
    "name": "ipython",
    "version": 3
   },
   "file_extension": ".py",
   "mimetype": "text/x-python",
   "name": "python",
   "nbconvert_exporter": "python",
   "pygments_lexer": "ipython3",
   "version": "3.10.9"
  }
 },
 "nbformat": 4,
 "nbformat_minor": 2
}
