{
 "cells": [
  {
   "cell_type": "code",
   "execution_count": 3,
   "metadata": {},
   "outputs": [],
   "source": [
    "import yaml\n",
    "from pathlib import Path\n",
    "import cv2\n",
    "from matplotlib import pyplot as plt\n",
    "import json\n",
    "import math\n",
    "import sys\n",
    "import os"
   ]
  },
  {
   "cell_type": "code",
   "execution_count": 5,
   "metadata": {},
   "outputs": [
    {
     "ename": "PermissionError",
     "evalue": "[Errno 13] Permission denied: 'train_label.json'",
     "output_type": "error",
     "traceback": [
      "\u001b[1;31m---------------------------------------------------------------------------\u001b[0m",
      "\u001b[1;31mPermissionError\u001b[0m                           Traceback (most recent call last)",
      "\u001b[1;32mc:\\Users\\28435\\OneDrive\\桌面\\ee641-final-project\\Get_train_data.ipynb Cell 2\u001b[0m line \u001b[0;36m6\n\u001b[0;32m     <a href='vscode-notebook-cell:/c%3A/Users/28435/OneDrive/%E6%A1%8C%E9%9D%A2/ee641-final-project/Get_train_data.ipynb#W1sZmlsZQ%3D%3D?line=67'>68</a>\u001b[0m \u001b[39mtry\u001b[39;00m:\n\u001b[1;32m---> <a href='vscode-notebook-cell:/c%3A/Users/28435/OneDrive/%E6%A1%8C%E9%9D%A2/ee641-final-project/Get_train_data.ipynb#W1sZmlsZQ%3D%3D?line=68'>69</a>\u001b[0m     \u001b[39mwith\u001b[39;00m \u001b[39mopen\u001b[39;49m(\u001b[39m\"\u001b[39;49m\u001b[39mtrain_label.json\u001b[39;49m\u001b[39m\"\u001b[39;49m, \u001b[39m\"\u001b[39;49m\u001b[39mr+\u001b[39;49m\u001b[39m\"\u001b[39;49m) \u001b[39mas\u001b[39;00m old_file:\n\u001b[0;32m     <a href='vscode-notebook-cell:/c%3A/Users/28435/OneDrive/%E6%A1%8C%E9%9D%A2/ee641-final-project/Get_train_data.ipynb#W1sZmlsZQ%3D%3D?line=69'>70</a>\u001b[0m         content \u001b[39m=\u001b[39m json\u001b[39m.\u001b[39mload(old_file)\n",
      "File \u001b[1;32m~\\AppData\\Roaming\\Python\\Python310\\site-packages\\IPython\\core\\interactiveshell.py:308\u001b[0m, in \u001b[0;36m_modified_open\u001b[1;34m(file, *args, **kwargs)\u001b[0m\n\u001b[0;32m    302\u001b[0m     \u001b[39mraise\u001b[39;00m \u001b[39mValueError\u001b[39;00m(\n\u001b[0;32m    303\u001b[0m         \u001b[39mf\u001b[39m\u001b[39m\"\u001b[39m\u001b[39mIPython won\u001b[39m\u001b[39m'\u001b[39m\u001b[39mt let you open fd=\u001b[39m\u001b[39m{\u001b[39;00mfile\u001b[39m}\u001b[39;00m\u001b[39m by default \u001b[39m\u001b[39m\"\u001b[39m\n\u001b[0;32m    304\u001b[0m         \u001b[39m\"\u001b[39m\u001b[39mas it is likely to crash IPython. If you know what you are doing, \u001b[39m\u001b[39m\"\u001b[39m\n\u001b[0;32m    305\u001b[0m         \u001b[39m\"\u001b[39m\u001b[39myou can use builtins\u001b[39m\u001b[39m'\u001b[39m\u001b[39m open.\u001b[39m\u001b[39m\"\u001b[39m\n\u001b[0;32m    306\u001b[0m     )\n\u001b[1;32m--> 308\u001b[0m \u001b[39mreturn\u001b[39;00m io_open(file, \u001b[39m*\u001b[39margs, \u001b[39m*\u001b[39m\u001b[39m*\u001b[39mkwargs)\n",
      "\u001b[1;31mPermissionError\u001b[0m: [Errno 13] Permission denied: 'train_label.json'",
      "\nDuring handling of the above exception, another exception occurred:\n",
      "\u001b[1;31mPermissionError\u001b[0m                           Traceback (most recent call last)",
      "\u001b[1;32mc:\\Users\\28435\\OneDrive\\桌面\\ee641-final-project\\Get_train_data.ipynb Cell 2\u001b[0m line \u001b[0;36m7\n\u001b[0;32m     <a href='vscode-notebook-cell:/c%3A/Users/28435/OneDrive/%E6%A1%8C%E9%9D%A2/ee641-final-project/Get_train_data.ipynb#W1sZmlsZQ%3D%3D?line=72'>73</a>\u001b[0m         json\u001b[39m.\u001b[39mdump(content,new_file)\n\u001b[0;32m     <a href='vscode-notebook-cell:/c%3A/Users/28435/OneDrive/%E6%A1%8C%E9%9D%A2/ee641-final-project/Get_train_data.ipynb#W1sZmlsZQ%3D%3D?line=73'>74</a>\u001b[0m \u001b[39mexcept\u001b[39;00m:\n\u001b[1;32m---> <a href='vscode-notebook-cell:/c%3A/Users/28435/OneDrive/%E6%A1%8C%E9%9D%A2/ee641-final-project/Get_train_data.ipynb#W1sZmlsZQ%3D%3D?line=74'>75</a>\u001b[0m     \u001b[39mwith\u001b[39;00m \u001b[39mopen\u001b[39;49m(\u001b[39m\"\u001b[39;49m\u001b[39mtrain_label.json\u001b[39;49m\u001b[39m\"\u001b[39;49m, \u001b[39m\"\u001b[39;49m\u001b[39mw+\u001b[39;49m\u001b[39m\"\u001b[39;49m) \u001b[39mas\u001b[39;00m new_file:\n\u001b[0;32m     <a href='vscode-notebook-cell:/c%3A/Users/28435/OneDrive/%E6%A1%8C%E9%9D%A2/ee641-final-project/Get_train_data.ipynb#W1sZmlsZQ%3D%3D?line=75'>76</a>\u001b[0m         json\u001b[39m.\u001b[39mdump(dic,new_file)  \n",
      "File \u001b[1;32m~\\AppData\\Roaming\\Python\\Python310\\site-packages\\IPython\\core\\interactiveshell.py:308\u001b[0m, in \u001b[0;36m_modified_open\u001b[1;34m(file, *args, **kwargs)\u001b[0m\n\u001b[0;32m    301\u001b[0m \u001b[39mif\u001b[39;00m file \u001b[39min\u001b[39;00m {\u001b[39m0\u001b[39m, \u001b[39m1\u001b[39m, \u001b[39m2\u001b[39m}:\n\u001b[0;32m    302\u001b[0m     \u001b[39mraise\u001b[39;00m \u001b[39mValueError\u001b[39;00m(\n\u001b[0;32m    303\u001b[0m         \u001b[39mf\u001b[39m\u001b[39m\"\u001b[39m\u001b[39mIPython won\u001b[39m\u001b[39m'\u001b[39m\u001b[39mt let you open fd=\u001b[39m\u001b[39m{\u001b[39;00mfile\u001b[39m}\u001b[39;00m\u001b[39m by default \u001b[39m\u001b[39m\"\u001b[39m\n\u001b[0;32m    304\u001b[0m         \u001b[39m\"\u001b[39m\u001b[39mas it is likely to crash IPython. If you know what you are doing, \u001b[39m\u001b[39m\"\u001b[39m\n\u001b[0;32m    305\u001b[0m         \u001b[39m\"\u001b[39m\u001b[39myou can use builtins\u001b[39m\u001b[39m'\u001b[39m\u001b[39m open.\u001b[39m\u001b[39m\"\u001b[39m\n\u001b[0;32m    306\u001b[0m     )\n\u001b[1;32m--> 308\u001b[0m \u001b[39mreturn\u001b[39;00m io_open(file, \u001b[39m*\u001b[39margs, \u001b[39m*\u001b[39m\u001b[39m*\u001b[39mkwargs)\n",
      "\u001b[1;31mPermissionError\u001b[0m: [Errno 13] Permission denied: 'train_label.json'"
     ]
    }
   ],
   "source": [
    "conf = yaml.safe_load(Path('./train.yaml').read_text())\n",
    "conf2 = yaml.safe_load(Path('./test.yaml').read_text())\n",
    "threhold = 128  \n",
    "img_id = 0\n",
    "width_expanson = 0.8\n",
    "height_expension = 1.2\n",
    "os.mkdir('./data/train_data')\n",
    "def image_box(x1,x2,y1,y2,x_expansion,y_expansion):\n",
    "    dis_x = x2-x1\n",
    "    dis_y = y2-y1\n",
    "    return max(0,int(x1-x_expansion*dis_x)),min(1279,int(x2+x_expansion*dis_x)),max(0,int(y1-y_expansion*dis_y)),min(1279,int(y2+y_expansion*dis_y))\n",
    "\n",
    "\n",
    "for i in conf:\n",
    "    if i['boxes'] != []:\n",
    "        img = cv2.imread(i['path'],1)\n",
    "        for data in i['boxes']:\n",
    "            if data['occluded'] == False:\n",
    "                x_max=min(data['x_max'],1279)\n",
    "                x_min=max(data['x_min'],0)\n",
    "                y_max=min(data['y_max'],719)\n",
    "                y_min=max(data['y_min'],0)\n",
    "                x_min,x_max,y_min,y_max= image_box(x_min,x_max,y_min,y_max,width_expanson,height_expension)\n",
    "            \n",
    "                if x_max-x_min >= threhold or y_max-y_min >= threhold:\n",
    "                    \n",
    "                    img_cut = cv2.resize(img[y_min:y_max,x_min:x_max,:],(64,64),interpolation = cv2.INTER_LINEAR)\n",
    "\n",
    "                    filename = f'./data/train_data/{img_id}.jpg'\n",
    "                    cv2.imwrite(filename, img_cut) \n",
    "                    img_id +=1\n",
    "                    dic = {\n",
    "                        img_id:data['label']\n",
    "                    }\n",
    "                    \n",
    "                    \n",
    "                    try:\n",
    "                        with open(\"train_label.json\", \"r+\") as old_file:\n",
    "                            content = json.load(old_file)\n",
    "                            content.update(dic)\n",
    "                        with open(\"train_label.json\", \"w+\") as new_file:\n",
    "                            json.dump(content,new_file)\n",
    "                    except:\n",
    "                        with open(\"train_label.json\", \"w+\") as new_file:\n",
    "                            json.dump(dic,new_file)  \n",
    "\n",
    "for i in conf2:\n",
    "    path = f\"./rgb/test/{i['path'].split('/')[-1]}\"\n",
    "    img = cv2.imread(path,1)\n",
    "    for data in i['boxes']:\n",
    "        if data['occluded'] == False:\n",
    "            x_max=min(data['x_max'],1279)\n",
    "            x_min=max(data['x_min'],0)\n",
    "            y_max=min(data['y_max'],719)\n",
    "            y_min=max(data['y_min'],0)\n",
    "            x_min,x_max,y_min,y_max= image_box(x_min,x_max,y_min,y_max,width_expanson,height_expension)\n",
    "            \n",
    "            if x_max-x_min >= threhold or y_max-y_min >= threhold:\n",
    "                \n",
    "                img_cut = cv2.resize(img[y_min:y_max,x_min:x_max,:],(64,64),interpolation = cv2.INTER_LINEAR)\n",
    "\n",
    "                filename = f'./data/train_data/{img_id}.jpg'\n",
    "                cv2.imwrite(filename, img_cut) \n",
    "                dic = {\n",
    "                    img_id:data['label']\n",
    "                }\n",
    "                img_id +=1\n",
    "                try:\n",
    "                    with open(\"train_label.json\", \"r+\") as old_file:\n",
    "                        content = json.load(old_file)\n",
    "                        content.update(dic)\n",
    "                    with open(\"train_label.json\", \"w+\") as new_file:\n",
    "                        json.dump(content,new_file)\n",
    "                except:\n",
    "                    with open(\"train_label.json\", \"w+\") as new_file:\n",
    "                        json.dump(dic,new_file)  "
   ]
  },
  {
   "cell_type": "code",
   "execution_count": 19,
   "metadata": {},
   "outputs": [
    {
     "data": {
      "text/plain": [
       "False"
      ]
     },
     "execution_count": 19,
     "metadata": {},
     "output_type": "execute_result"
    }
   ],
   "source": [
    "conf2[0]['boxes'][0]['occluded']"
   ]
  },
  {
   "cell_type": "code",
   "execution_count": null,
   "metadata": {},
   "outputs": [],
   "source": []
  },
  {
   "cell_type": "code",
   "execution_count": null,
   "metadata": {},
   "outputs": [],
   "source": []
  }
 ],
 "metadata": {
  "kernelspec": {
   "display_name": "Python 3",
   "language": "python",
   "name": "python3"
  },
  "language_info": {
   "codemirror_mode": {
    "name": "ipython",
    "version": 3
   },
   "file_extension": ".py",
   "mimetype": "text/x-python",
   "name": "python",
   "nbconvert_exporter": "python",
   "pygments_lexer": "ipython3",
   "version": "3.10.9"
  }
 },
 "nbformat": 4,
 "nbformat_minor": 2
}
