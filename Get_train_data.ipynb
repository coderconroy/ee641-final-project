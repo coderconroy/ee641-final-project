{
 "cells": [
  {
   "cell_type": "code",
   "execution_count": 3,
   "metadata": {},
   "outputs": [],
   "source": [
    "import yaml\n",
    "from pathlib import Path\n",
    "import cv2\n",
    "from matplotlib import pyplot as plt\n",
    "import json\n",
    "import math\n",
    "import sys\n",
    "import os"
   ]
  },
  {
   "cell_type": "code",
   "execution_count": 4,
   "metadata": {},
   "outputs": [],
   "source": [
    "conf = yaml.safe_load(Path('./train.yaml').read_text())\n",
    "conf2 = yaml.safe_load(Path('./test.yaml').read_text())\n",
    "threhold = 128\n",
    "img_id = 0\n",
    "width_expanson = 0.8\n",
    "height_expension = 1.\n",
    "os.mkdir('./data/train_data')\n",
    "def image_box(x1,x2,y1,y2,x_expansion,y_expansion):\n",
    "    dis_x = x2-x1\n",
    "    dis_y = y2-y1\n",
    "    return max(0,int(x1-x_expansion*dis_x)),min(1279,int(x2+x_expansion*dis_x)),max(0,int(y1-y_expansion*dis_y)),min(1279,int(y2+y_expansion*dis_y))\n",
    "\n",
    "\n",
    "for i in conf:\n",
    "    if i['boxes'] != []:\n",
    "        img = cv2.imread(i['path'],1)\n",
    "        for data in i['boxes']:\n",
    "            if data['occluded'] == False:\n",
    "                x_max=min(data['x_max'],1279)\n",
    "                x_min=max(data['x_min'],0)\n",
    "                y_max=min(data['y_max'],719)\n",
    "                y_min=max(data['y_min'],0)\n",
    "                x_min,x_max,y_min,y_max= image_box(x_min,x_max,y_min,y_max,width_expanson,height_expension)\n",
    "            \n",
    "                if x_max-x_min >= threhold or y_max-y_min >= threhold:\n",
    "                    \n",
    "                    img_cut = cv2.resize(img[y_min:y_max,x_min:x_max,:],(64,64),interpolation = cv2.INTER_LINEAR)\n",
    "\n",
    "                    filename = f'./data/train_data/{img_id}.jpg'\n",
    "                    cv2.imwrite(filename, img_cut) \n",
    "                    img_id +=1\n",
    "                    dic = {\n",
    "                        img_id:data['label']\n",
    "                    }\n",
    "                    \n",
    "                    \n",
    "                    try:\n",
    "                        with open(\"train_label.json\", \"r+\") as old_file:\n",
    "                            content = json.load(old_file)\n",
    "                            content.update(dic)\n",
    "                        with open(\"train_label.json\", \"w+\") as new_file:\n",
    "                            json.dump(content,new_file)\n",
    "                    except:\n",
    "                        with open(\"train_label.json\", \"w+\") as new_file:\n",
    "                            json.dump(dic,new_file)  \n",
    "\n",
    "for i in conf2:\n",
    "    path = f\"./rgb/test/{i['path'].split('/')[-1]}\"\n",
    "    img = cv2.imread(path,1)\n",
    "    for data in i['boxes']:\n",
    "        if data['occluded'] == False:\n",
    "            x_max=min(data['x_max'],1279)\n",
    "            x_min=max(data['x_min'],0)\n",
    "            y_max=min(data['y_max'],719)\n",
    "            y_min=max(data['y_min'],0)\n",
    "            x_min,x_max,y_min,y_max= image_box(x_min,x_max,y_min,y_max,width_expanson,height_expension)\n",
    "            \n",
    "            if x_max-x_min >= threhold or y_max-y_min >= threhold:\n",
    "                \n",
    "                img_cut = cv2.resize(img[y_min:y_max,x_min:x_max,:],(64,64),interpolation = cv2.INTER_LINEAR)\n",
    "\n",
    "                filename = f'./data/train_data/{img_id}.jpg'\n",
    "                cv2.imwrite(filename, img_cut) \n",
    "                dic = {\n",
    "                    img_id:data['label']\n",
    "                }\n",
    "                img_id +=1\n",
    "                try:\n",
    "                    with open(\"train_label.json\", \"r+\") as old_file:\n",
    "                        content = json.load(old_file)\n",
    "                        content.update(dic)\n",
    "                    with open(\"train_label.json\", \"w+\") as new_file:\n",
    "                        json.dump(content,new_file)\n",
    "                except:\n",
    "                    with open(\"train_label.json\", \"w+\") as new_file:\n",
    "                        json.dump(dic,new_file)  "
   ]
  },
  {
   "cell_type": "code",
   "execution_count": 19,
   "metadata": {},
   "outputs": [
    {
     "data": {
      "text/plain": [
       "False"
      ]
     },
     "execution_count": 19,
     "metadata": {},
     "output_type": "execute_result"
    }
   ],
   "source": [
    "conf2[0]['boxes'][0]['occluded']"
   ]
  },
  {
   "cell_type": "code",
   "execution_count": null,
   "metadata": {},
   "outputs": [],
   "source": []
  },
  {
   "cell_type": "code",
   "execution_count": null,
   "metadata": {},
   "outputs": [],
   "source": []
  }
 ],
 "metadata": {
  "kernelspec": {
   "display_name": "Python 3",
   "language": "python",
   "name": "python3"
  },
  "language_info": {
   "codemirror_mode": {
    "name": "ipython",
    "version": 3
   },
   "file_extension": ".py",
   "mimetype": "text/x-python",
   "name": "python",
   "nbconvert_exporter": "python",
   "pygments_lexer": "ipython3",
   "version": "3.10.9"
  }
 },
 "nbformat": 4,
 "nbformat_minor": 2
}
